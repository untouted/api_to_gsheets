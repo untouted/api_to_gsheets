{
 "cells": [
  {
   "cell_type": "code",
   "execution_count": 3,
   "metadata": {},
   "outputs": [
    {
     "name": "stdout",
     "output_type": "stream",
     "text": [
      "Collecting gspread\n",
      "  Downloading gspread-6.0.2-py3-none-any.whl (53 kB)\n",
      "\u001b[2K     \u001b[90m━━━━━━━━━━━━━━━━━━━━━━━━━━━━━━━━━━━━━━━━\u001b[0m \u001b[32m53.9/53.9 kB\u001b[0m \u001b[31m2.0 MB/s\u001b[0m eta \u001b[36m0:00:00\u001b[0m\n",
      "\u001b[?25hCollecting StrEnum==0.4.15\n",
      "  Downloading StrEnum-0.4.15-py3-none-any.whl (8.9 kB)\n",
      "Collecting google-auth>=1.12.0\n",
      "  Downloading google_auth-2.28.1-py2.py3-none-any.whl (186 kB)\n",
      "\u001b[2K     \u001b[90m━━━━━━━━━━━━━━━━━━━━━━━━━━━━━━━━━━━━━━━\u001b[0m \u001b[32m186.9/186.9 kB\u001b[0m \u001b[31m7.2 MB/s\u001b[0m eta \u001b[36m0:00:00\u001b[0m\n",
      "\u001b[?25hCollecting google-auth-oauthlib>=0.4.1\n",
      "  Downloading google_auth_oauthlib-1.2.0-py2.py3-none-any.whl (24 kB)\n",
      "Collecting rsa<5,>=3.1.4\n",
      "  Downloading rsa-4.9-py3-none-any.whl (34 kB)\n",
      "Requirement already satisfied: pyasn1-modules>=0.2.1 in /home/untouted-desktop/anaconda3/lib/python3.9/site-packages (from google-auth>=1.12.0->gspread) (0.2.8)\n",
      "Collecting cachetools<6.0,>=2.0.0\n",
      "  Downloading cachetools-5.3.2-py3-none-any.whl (9.3 kB)\n",
      "Collecting requests-oauthlib>=0.7.0\n",
      "  Downloading requests_oauthlib-1.3.1-py2.py3-none-any.whl (23 kB)\n",
      "Requirement already satisfied: pyasn1<0.5.0,>=0.4.6 in /home/untouted-desktop/anaconda3/lib/python3.9/site-packages (from pyasn1-modules>=0.2.1->google-auth>=1.12.0->gspread) (0.4.8)\n",
      "Requirement already satisfied: requests>=2.0.0 in /home/untouted-desktop/anaconda3/lib/python3.9/site-packages (from requests-oauthlib>=0.7.0->google-auth-oauthlib>=0.4.1->gspread) (2.28.1)\n",
      "Collecting oauthlib>=3.0.0\n",
      "  Downloading oauthlib-3.2.2-py3-none-any.whl (151 kB)\n",
      "\u001b[2K     \u001b[90m━━━━━━━━━━━━━━━━━━━━━━━━━━━━━━━━━━━━━━\u001b[0m \u001b[32m151.7/151.7 kB\u001b[0m \u001b[31m22.2 MB/s\u001b[0m eta \u001b[36m0:00:00\u001b[0m\n",
      "\u001b[?25hRequirement already satisfied: charset-normalizer<3,>=2 in /home/untouted-desktop/anaconda3/lib/python3.9/site-packages (from requests>=2.0.0->requests-oauthlib>=0.7.0->google-auth-oauthlib>=0.4.1->gspread) (2.0.4)\n",
      "Requirement already satisfied: urllib3<1.27,>=1.21.1 in /home/untouted-desktop/anaconda3/lib/python3.9/site-packages (from requests>=2.0.0->requests-oauthlib>=0.7.0->google-auth-oauthlib>=0.4.1->gspread) (1.26.11)\n",
      "Requirement already satisfied: idna<4,>=2.5 in /home/untouted-desktop/anaconda3/lib/python3.9/site-packages (from requests>=2.0.0->requests-oauthlib>=0.7.0->google-auth-oauthlib>=0.4.1->gspread) (3.3)\n",
      "Requirement already satisfied: certifi>=2017.4.17 in /home/untouted-desktop/anaconda3/lib/python3.9/site-packages (from requests>=2.0.0->requests-oauthlib>=0.7.0->google-auth-oauthlib>=0.4.1->gspread) (2022.9.14)\n",
      "Installing collected packages: StrEnum, rsa, oauthlib, cachetools, requests-oauthlib, google-auth, google-auth-oauthlib, gspread\n",
      "Successfully installed StrEnum-0.4.15 cachetools-5.3.2 google-auth-2.28.1 google-auth-oauthlib-1.2.0 gspread-6.0.2 oauthlib-3.2.2 requests-oauthlib-1.3.1 rsa-4.9\n"
     ]
    }
   ],
   "source": [
    "!pip install gspread\n",
    "!pip install cfbd"
   ]
  },
  {
   "cell_type": "code",
   "execution_count": 21,
   "metadata": {},
   "outputs": [],
   "source": [
    "import cfbd\n",
    "from cfbd.rest import ApiException\n",
    "import gspread\n",
    "import pandas as pd\n",
    "import json"
   ]
  },
  {
   "cell_type": "code",
   "execution_count": 2,
   "metadata": {},
   "outputs": [],
   "source": [
    "cbd_api_key = 'YOUR-API-KEY-HERE'\n",
    "\n",
    "# Configure API key authorization: ApiKeyAuth\n",
    "configuration = cfbd.Configuration()\n",
    "configuration.api_key['Authorization'] = cbd_api_key\n",
    "configuration.api_key_prefix['Authorization'] = 'Bearer'\n",
    "\n",
    "games_api_instance = cfbd.GamesApi(cfbd.ApiClient(configuration))"
   ]
  },
  {
   "cell_type": "code",
   "execution_count": 39,
   "metadata": {},
   "outputs": [],
   "source": [
    "game_results = games_api_instance.get_games(year = 2023, season_type = 'regular')\n",
    "\n",
    "game_rows = []\n",
    "\n",
    "for game_dict in game_results:\n",
    "\n",
    "    append_dict = {\n",
    "\n",
    "            'attendance': game_dict.attendance,\n",
    "            'away_conference': game_dict.away_conference,\n",
    "            'away_division': game_dict.away_division,\n",
    "            'away_id': game_dict.away_id,\n",
    "            'away_points': game_dict.away_points,\n",
    "            'away_post_win_prob': game_dict.away_post_win_prob,\n",
    "            'away_postgame_elo': game_dict.away_postgame_elo,\n",
    "            'away_pregame_elo': game_dict.away_pregame_elo,\n",
    "            'away_team': game_dict.away_team,\n",
    "            'conference_game': game_dict.conference_game,\n",
    "            'excitement_index': game_dict.excitement_index,\n",
    "            'home_conference': game_dict.home_conference,\n",
    "            'home_division': game_dict.home_division,\n",
    "            'home_id': game_dict.home_id,\n",
    "            'home_points': game_dict.home_points,\n",
    "            'home_post_win_prob': game_dict.home_post_win_prob,\n",
    "            'home_postgame_elo': game_dict.home_postgame_elo,\n",
    "            'home_pregame_elo': game_dict.home_pregame_elo,\n",
    "            'home_team': game_dict.home_team,\n",
    "            'game_id': game_dict.id,\n",
    "            'neutral_site': game_dict.neutral_site,\n",
    "            'season': game_dict.season,\n",
    "            'season_type': game_dict.season_type,\n",
    "            'start_date': game_dict.start_date,\n",
    "            'start_time_tbd': game_dict.start_time_tbd,\n",
    "            'venue_name': game_dict.venue,\n",
    "            'venue_id': game_dict.venue_id,\n",
    "            'game_week': game_dict.week,\n",
    "        }\n",
    "\n",
    "\n",
    "    away_period_points_array = game_dict.away_line_scores\n",
    "    home_period_points_array = game_dict.home_line_scores\n",
    "\n",
    "    if away_period_points_array is not None:\n",
    "        for period_index in range(0, 13):\n",
    "\n",
    "            period_num = period_index + 1\n",
    "\n",
    "            if period_index < len(away_period_points_array):\n",
    "                away_period_score = away_period_points_array[period_index]\n",
    "            else:\n",
    "                away_period_score = None\n",
    "\n",
    "            if period_index < len(home_period_points_array):\n",
    "                home_period_score = home_period_points_array[period_index]\n",
    "            else:\n",
    "                home_period_score = None\n",
    "\n",
    "\n",
    "            append_dict['away_period_' + str(period_num)] = away_period_score\n",
    "            append_dict['home_period_' + str(period_num)] = home_period_score\n",
    "    else:\n",
    "        for period_index in range(0, 13):\n",
    "            \n",
    "            period_num = period_index + 1\n",
    "\n",
    "            append_dict['away_period_' + str(period_num)] = None\n",
    "            append_dict['home_period_' + str(period_num)] = None\n",
    "\n",
    "    game_rows.append(append_dict)\n",
    "\n",
    "game_df = pd.DataFrame(game_rows)\n",
    "\n",
    "game_df.fillna('', inplace=True)"
   ]
  },
  {
   "cell_type": "code",
   "execution_count": 40,
   "metadata": {},
   "outputs": [
    {
     "data": {
      "text/plain": [
       "{'spreadsheetId': '1-sSvDQ0f_WSbEXpmajf8VeBUMjp_4fFxGH0ogkT1q3s',\n",
       " 'updatedRange': 'Sheet1!A1:BB3600',\n",
       " 'updatedRows': 3600,\n",
       " 'updatedColumns': 54,\n",
       " 'updatedCells': 194400}"
      ]
     },
     "execution_count": 40,
     "metadata": {},
     "output_type": "execute_result"
    }
   ],
   "source": [
    "gc = gspread.service_account(filename = 'PATH-TO-GOOGLE-CREDENTIALS.json')\n",
    "\n",
    "cfbd_spreadsheet = gc.open('cfbd_games')\n",
    "cfbd_games_sheet = cfbd_spreadsheet.worksheet('Sheet1')\n",
    "\n",
    "cfbd_games_sheet.update([game_df.columns.values.tolist()] + game_df.values.tolist())"
   ]
  },
  {
   "cell_type": "code",
   "execution_count": 16,
   "metadata": {},
   "outputs": [],
   "source": []
  }
 ],
 "metadata": {
  "kernelspec": {
   "display_name": "base",
   "language": "python",
   "name": "python3"
  },
  "language_info": {
   "codemirror_mode": {
    "name": "ipython",
    "version": 3
   },
   "file_extension": ".py",
   "mimetype": "text/x-python",
   "name": "python",
   "nbconvert_exporter": "python",
   "pygments_lexer": "ipython3",
   "version": "3.9.0"
  }
 },
 "nbformat": 4,
 "nbformat_minor": 2
}
